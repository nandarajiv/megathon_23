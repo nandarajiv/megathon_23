{
 "cells": [
  {
   "cell_type": "code",
   "execution_count": 3,
   "metadata": {},
   "outputs": [],
   "source": [
    "# load json data as a dataframe\n",
    "import json\n",
    "import pandas as pd\n",
    "import numpy as np\n",
    "import matplotlib.pyplot as plt"
   ]
  },
  {
   "cell_type": "code",
   "execution_count": 1,
   "metadata": {},
   "outputs": [
    {
     "ename": "FileNotFoundError",
     "evalue": "[Errno 2] No such file or directory: \"Megathon'23/mashqa_data/train_webmd_squad_v2_consec.json\"",
     "output_type": "error",
     "traceback": [
      "\u001b[0;31m---------------------------------------------------------------------------\u001b[0m",
      "\u001b[0;31mFileNotFoundError\u001b[0m                         Traceback (most recent call last)",
      "\u001b[0;32m<ipython-input-1-f6812c2ece0c>\u001b[0m in \u001b[0;36m<module>\u001b[0;34m\u001b[0m\n\u001b[1;32m      1\u001b[0m \u001b[0;31m# load json data as a dictionary of dictionaries (recursively)\u001b[0m\u001b[0;34m\u001b[0m\u001b[0;34m\u001b[0m\u001b[0;34m\u001b[0m\u001b[0m\n\u001b[0;32m----> 2\u001b[0;31m \u001b[0;32mwith\u001b[0m \u001b[0mopen\u001b[0m\u001b[0;34m(\u001b[0m\u001b[0;34m'Megathon\\'23/mashqa_data/train_webmd_squad_v2_consec.json'\u001b[0m\u001b[0;34m)\u001b[0m \u001b[0;32mas\u001b[0m \u001b[0mjson_data\u001b[0m\u001b[0;34m:\u001b[0m\u001b[0;34m\u001b[0m\u001b[0;34m\u001b[0m\u001b[0m\n\u001b[0m\u001b[1;32m      3\u001b[0m     \u001b[0mdata\u001b[0m \u001b[0;34m=\u001b[0m \u001b[0mjson\u001b[0m\u001b[0;34m.\u001b[0m\u001b[0mload\u001b[0m\u001b[0;34m(\u001b[0m\u001b[0mjson_data\u001b[0m\u001b[0;34m)\u001b[0m\u001b[0;34m\u001b[0m\u001b[0;34m\u001b[0m\u001b[0m\n",
      "\u001b[0;31mFileNotFoundError\u001b[0m: [Errno 2] No such file or directory: \"Megathon'23/mashqa_data/train_webmd_squad_v2_consec.json\""
     ]
    }
   ],
   "source": [
    "# load json data as a dictionary of dictionaries (recursively)\n",
    "with open('Megathon\\'23/mashqa_data/test_webmd_squad_v2_consec.json') as json_data:\n",
    "    data = json.load(json_data)\n"
   ]
  },
  {
   "cell_type": "code",
   "execution_count": 32,
   "metadata": {},
   "outputs": [
    {
     "data": {
      "text/plain": [
       "{'title': 'https://www.webmd.com/ibd-crohns-disease/ulcerative-colitis/digestive-diseases-ulcerative-colitis-treatment',\n",
       " 'paragraphs': [{'qas': [{'url': 'https://www.webmd.com/ibd-crohns-disease/ulcerative-colitis/qa/what-causes-ulcerative-colitis',\n",
       "     'id': '15c408d64c849375253038758054c57c',\n",
       "     'answers': [{'text': 'He makes an opening in your belly wall and joins the reservoir to your skin with a nipple valve.',\n",
       "       'answer_span': [33],\n",
       "       'answer_start': 3473,\n",
       "       'answer_starts': [[3473, 96]]}],\n",
       "     'question': 'What causes ulcerative colitis?',\n",
       "     'is_impossible': False},\n",
       "    {'url': 'https://www.webmd.com/ibd-crohns-disease/ulcerative-colitis/qa/what-are-diet-changes-for-ulcerative-colitis',\n",
       "     'id': 'a37219717992889c1835cac3095badc1',\n",
       "     'answers': [{'text': \"While food doesn't appear to play a role in causing ulcerative colitis, certain foods may cause more symptoms when your disease is active. Your doctor may suggest diet changes, depending on your symptoms. He may also recommend vitamins or nutritional supplements.\",\n",
       "       'answer_span': [18, 19, 20],\n",
       "       'answer_start': 2034,\n",
       "       'answer_starts': [[2034, 138], [2173, 65], [2239, 58]]}],\n",
       "     'question': 'What are diet changes for ulcerative colitis?',\n",
       "     'is_impossible': False}],\n",
       "   'sent_list': ['Treatment for ulcerative colitis can include medicine, changes in your diet, or surgery.',\n",
       "    \"These treatments won't cure your ulcerative colitis, unless you have surgery that removes the colon and rectum, which is considered curative, but they can help ease your symptoms.\",\n",
       "    \"It's important to get treated for ulcerative colitis as soon as you start having symptoms.\",\n",
       "    \"If you have severe diarrhea and bleeding, you might need to go the hospital to prevent or treat dehydration, reduce your symptoms, and make sure you're getting the right nutrition.\",\n",
       "    'Your doctor may suggest several types of medicines to curb inflammation in your bowel, including sulfa drugs, corticosteroids, immunosuppressive agents, and antibiotics.',\n",
       "    '5-aminosalicylic acid (5- ASA).',\n",
       "    'Balsalazide, mesalamine, olsalazine, and sulfasalazine are the main medications used to treat ulcerative colitis.',\n",
       "    'They come in pills and suppositories.',\n",
       "    'Let your doctor know if you are allergic to sulfa before taking one of these drugs.',\n",
       "    'He can prescribe a sulfa-free 5- ASA.',\n",
       "    'Corticosteroids.',\n",
       "    \"These anti-inflammatory drugs can be used if 5- ASA drugs don't work for you or if you have more severe disease.\",\n",
       "    'These medicines sometimes have side effects and long-term complications, so doctors often suggest them for short periods of time to help you get in remission.',\n",
       "    'Your doctor may then prescribe you a 5- ASA medication to keep your symptoms away for a longer period.',\n",
       "    'Immunosuppressants.',\n",
       "    \"If corticosteroids or 5- ASA drugs don't help, your doctor may prescribe these kinds of drugs, such as 6-mercaptopurine (6- MP), azathioprine ( Azasan, Imuran), cyclosporine, and tacrolimus ( Astagraf XL, Envarsus XR, Prograf).\",\n",
       "    'Biologics.',\n",
       "    'This group of drugs includes adalimumab ( Humira), adalimumab-atto ( Amjevita) and adalimumab-adbm ( Cyltezo) - biosimilars to Humira, certolizumab pegol ( Cimzia), golimumab ( Simponi, SImponi Aria), infliximab ( Remicade), ), Infliximab-abda ( Renflexis), infliximab-dyyb ( Inflectra), a biosimilar to Remicade, tofacitinib ( Xeljanz), and vedolizumab ( Entyvio).',\n",
       "    \"While food doesn't appear to play a role in causing ulcerative colitis, certain foods may cause more symptoms when your disease is active.\",\n",
       "    'Your doctor may suggest diet changes, depending on your symptoms.',\n",
       "    'He may also recommend vitamins or nutritional supplements.',\n",
       "    'Some people get surgery to remove part or all of the colon.',\n",
       "    \"Your doctor may suggest this if your medicine isn't working, your symptoms get worse, or your ulcerative colitis leads to serious complications.\",\n",
       "    'When you have an operation to remove your entire colon, the surgeon most often creates an opening, or stoma, in your belly wall.',\n",
       "    'He attaches a bag there and brings the tip of your lower small intestine through the opening.',\n",
       "    'Waste passes through it and collects in a pouch, which gets attached to the stoma.',\n",
       "    \"You'd need to wear the pouch all the time.\",\n",
       "    \"A newer surgery, called a pelvic pouch or ileal pouch anal anastomosis ( IPAA), doesn't create a permanent opening.\",\n",
       "    'Instead, a surgeon removes your colon and rectum, and your small intestine is used to form an internal pouch or reservoir that serves as a new rectum.',\n",
       "    'This pouch is connected to the anus.',\n",
       "    \"A procedure called a continent ileostomy ( Kock pouch) is done if you want your external pouch converted to an internal one, or if you can't get the IPAA operation.\",\n",
       "    'In this procedure, there is a stoma but no bag.',\n",
       "    'Your surgeon removes your colon and rectum and creates an internal reservoir from your small intestine.',\n",
       "    'He makes an opening in your belly wall and joins the reservoir to your skin with a nipple valve.',\n",
       "    'To drain the pouch, you insert a catheter through the valve into the internal reservoir.',\n",
       "    'Other techniques are also available.',\n",
       "    'All surgeries carry some risk and complications.',\n",
       "    'If you have been told you need surgery to treat ulcerative colitis, you may want to get a second opinion to make sure you get the best option for you.',\n",
       "    'Call your doctor right away if you have: Heavy, persistent diarrhea Rectal bleeding with clots of blood in your stool Constant pain and a high fever'],\n",
       "   'context': \"Treatment for ulcerative colitis can include medicine, changes in your diet, or surgery. These treatments won't cure your ulcerative colitis, unless you have surgery that removes the colon and rectum, which is considered curative, but they can help ease your symptoms. It's important to get treated for ulcerative colitis as soon as you start having symptoms. If you have severe diarrhea and bleeding, you might need to go the hospital to prevent or treat dehydration, reduce your symptoms, and make sure you're getting the right nutrition. Your doctor may suggest several types of medicines to curb inflammation in your bowel, including sulfa drugs, corticosteroids, immunosuppressive agents, and antibiotics. 5-aminosalicylic acid (5- ASA). Balsalazide, mesalamine, olsalazine, and sulfasalazine are the main medications used to treat ulcerative colitis. They come in pills and suppositories. Let your doctor know if you are allergic to sulfa before taking one of these drugs. He can prescribe a sulfa-free 5- ASA. Corticosteroids. These anti-inflammatory drugs can be used if 5- ASA drugs don't work for you or if you have more severe disease. These medicines sometimes have side effects and long-term complications, so doctors often suggest them for short periods of time to help you get in remission. Your doctor may then prescribe you a 5- ASA medication to keep your symptoms away for a longer period. Immunosuppressants. If corticosteroids or 5- ASA drugs don't help, your doctor may prescribe these kinds of drugs, such as 6-mercaptopurine (6- MP), azathioprine ( Azasan, Imuran), cyclosporine, and tacrolimus ( Astagraf XL, Envarsus XR, Prograf). Biologics. This group of drugs includes adalimumab ( Humira), adalimumab-atto ( Amjevita) and adalimumab-adbm ( Cyltezo) - biosimilars to Humira, certolizumab pegol ( Cimzia), golimumab ( Simponi, SImponi Aria), infliximab ( Remicade), ), Infliximab-abda ( Renflexis), infliximab-dyyb ( Inflectra), a biosimilar to Remicade, tofacitinib ( Xeljanz), and vedolizumab ( Entyvio). While food doesn't appear to play a role in causing ulcerative colitis, certain foods may cause more symptoms when your disease is active. Your doctor may suggest diet changes, depending on your symptoms. He may also recommend vitamins or nutritional supplements. Some people get surgery to remove part or all of the colon. Your doctor may suggest this if your medicine isn't working, your symptoms get worse, or your ulcerative colitis leads to serious complications. When you have an operation to remove your entire colon, the surgeon most often creates an opening, or stoma, in your belly wall. He attaches a bag there and brings the tip of your lower small intestine through the opening. Waste passes through it and collects in a pouch, which gets attached to the stoma. You'd need to wear the pouch all the time. A newer surgery, called a pelvic pouch or ileal pouch anal anastomosis ( IPAA), doesn't create a permanent opening. Instead, a surgeon removes your colon and rectum, and your small intestine is used to form an internal pouch or reservoir that serves as a new rectum. This pouch is connected to the anus. A procedure called a continent ileostomy ( Kock pouch) is done if you want your external pouch converted to an internal one, or if you can't get the IPAA operation. In this procedure, there is a stoma but no bag. Your surgeon removes your colon and rectum and creates an internal reservoir from your small intestine. He makes an opening in your belly wall and joins the reservoir to your skin with a nipple valve. To drain the pouch, you insert a catheter through the valve into the internal reservoir. Other techniques are also available. All surgeries carry some risk and complications. If you have been told you need surgery to treat ulcerative colitis, you may want to get a second opinion to make sure you get the best option for you. Call your doctor right away if you have: Heavy, persistent diarrhea Rectal bleeding with clots of blood in your stool Constant pain and a high fever\",\n",
       "   'sent_starts': [[0, 88],\n",
       "    [89, 179],\n",
       "    [269, 90],\n",
       "    [360, 180],\n",
       "    [541, 169],\n",
       "    [711, 31],\n",
       "    [743, 113],\n",
       "    [857, 37],\n",
       "    [895, 83],\n",
       "    [979, 37],\n",
       "    [1017, 16],\n",
       "    [1034, 112],\n",
       "    [1147, 158],\n",
       "    [1306, 102],\n",
       "    [1409, 19],\n",
       "    [1429, 227],\n",
       "    [1657, 10],\n",
       "    [1668, 365],\n",
       "    [2034, 138],\n",
       "    [2173, 65],\n",
       "    [2239, 58],\n",
       "    [2298, 59],\n",
       "    [2358, 144],\n",
       "    [2503, 128],\n",
       "    [2632, 93],\n",
       "    [2726, 82],\n",
       "    [2809, 42],\n",
       "    [2852, 115],\n",
       "    [2968, 150],\n",
       "    [3119, 36],\n",
       "    [3156, 164],\n",
       "    [3321, 47],\n",
       "    [3369, 103],\n",
       "    [3473, 96],\n",
       "    [3570, 88],\n",
       "    [3659, 36],\n",
       "    [3696, 48],\n",
       "    [3745, 150],\n",
       "    [3896, 148]]}]}"
      ]
     },
     "execution_count": 32,
     "metadata": {},
     "output_type": "execute_result"
    }
   ],
   "source": [
    "# access title element of the dictionary\n",
    "data['data'][1]"
   ]
  }
 ],
 "metadata": {
  "kernelspec": {
   "display_name": "smai",
   "language": "python",
   "name": "python3"
  },
  "language_info": {
   "codemirror_mode": {
    "name": "ipython",
    "version": 3
   },
   "file_extension": ".py",
   "mimetype": "text/x-python",
   "name": "python",
   "nbconvert_exporter": "python",
   "pygments_lexer": "ipython3",
   "version": "3.7.16"
  }
 },
 "nbformat": 4,
 "nbformat_minor": 2
}
