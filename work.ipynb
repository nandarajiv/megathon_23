{
 "cells": [
  {
   "cell_type": "code",
   "execution_count": 1,
   "metadata": {},
   "outputs": [],
   "source": [
    "import json"
   ]
  },
  {
   "cell_type": "code",
   "execution_count": 1,
   "metadata": {},
   "outputs": [],
   "source": [
    "data_path = 'data/mashqa_data/'\n",
    "trainconsec_path = data_path + 'train_webmd_squad_v2_consec.json'\n",
    "trainfull_path = data_path + 'train_webmd_squad_v2_full.json'\n",
    "valconsec_path = data_path + 'val_webmd_squad_v2_consec.json'\n",
    "valfull_path = data_path + 'val_webmd_squad_v2_full.json'\n",
    "testconsec_path = data_path + 'test_webmd_squad_v2_consec.json'\n",
    "testfull_path = data_path + 'test_webmd_squad_v2_full.json'"
   ]
  },
  {
   "cell_type": "code",
   "execution_count": 5,
   "metadata": {},
   "outputs": [
    {
     "data": {
      "text/plain": [
       "1"
      ]
     },
     "execution_count": 5,
     "metadata": {},
     "output_type": "execute_result"
    }
   ],
   "source": [
    "def json_reader(file_path):\n",
    "    with open(file_path) as f:\n",
    "        data = f.readlines()\n",
    "    num = len(data)\n",
    "    return num\n",
    "\n",
    "json_reader(trainfull_path)"
   ]
  },
  {
   "cell_type": "code",
   "execution_count": null,
   "metadata": {},
   "outputs": [],
   "source": []
  }
 ],
 "metadata": {
  "kernelspec": {
   "display_name": "Python 3",
   "language": "python",
   "name": "python3"
  },
  "language_info": {
   "codemirror_mode": {
    "name": "ipython",
    "version": 3
   },
   "file_extension": ".py",
   "mimetype": "text/x-python",
   "name": "python",
   "nbconvert_exporter": "python",
   "pygments_lexer": "ipython3",
   "version": "3.10.12"
  }
 },
 "nbformat": 4,
 "nbformat_minor": 2
}
