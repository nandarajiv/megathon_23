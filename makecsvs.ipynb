{
 "cells": [
  {
   "cell_type": "markdown",
   "metadata": {},
   "source": [
    "# Making csvs from the data :D"
   ]
  },
  {
   "cell_type": "code",
   "execution_count": 8,
   "metadata": {},
   "outputs": [],
   "source": [
    "import json\n",
    "import pandas as pd\n",
    "import csv"
   ]
  },
  {
   "cell_type": "code",
   "execution_count": 37,
   "metadata": {},
   "outputs": [],
   "source": [
    "with open('/scratch/data/mashqa_data/val_webmd_squad_v2_full.json') as json_data:\n",
    "    data = json.load(json_data)"
   ]
  },
  {
   "cell_type": "code",
   "execution_count": 38,
   "metadata": {},
   "outputs": [],
   "source": [
    "data = data['data']"
   ]
  },
  {
   "cell_type": "code",
   "execution_count": 46,
   "metadata": {},
   "outputs": [
    {
     "name": "stdout",
     "output_type": "stream",
     "text": [
      "521\n"
     ]
    }
   ],
   "source": [
    "print(len(data))"
   ]
  },
  {
   "cell_type": "code",
   "execution_count": 49,
   "metadata": {},
   "outputs": [
    {
     "data": {
      "text/plain": [
       "\"They include: Amphetamines: Mixed amphetamine salts ( Adderall, Evekeo) Dextroamphetamine ( Dexedrine, Pro Centra) Methylphenidates: Dexmethylphenidate SR ( Focalin) Methylphenidate immediate release ( Ritalin, Methylin) This kind of medicine helps if you need to focus for just a few hours. Perhaps you're working on spreadsheets or writing a report and need to be sharp. A short-acting med peaks and falls in your bloodstream quickly. You might feel irritable when it wears off. That's called a rebound effect. If you want to control symptoms all day, you'll need to pop more than one pill. That can be inconvenient and hard to remember to do when you're busy.\""
      ]
     },
     "execution_count": 49,
     "metadata": {},
     "output_type": "execute_result"
    }
   ],
   "source": [
    "data[500]['paragraphs'][0]['qas'][0]['answers'][0]['text']"
   ]
  },
  {
   "cell_type": "code",
   "execution_count": 35,
   "metadata": {},
   "outputs": [],
   "source": [
    "with open ('val_context.csv', 'w', newline='') as csvfile:\n",
    "    writer = csv.writer(csvfile)\n",
    "    writer.writerow(['index', 'context'])\n",
    "    for i, contextdata in enumerate(data):\n",
    "        context = contextdata['paragraphs'][0]['context']\n",
    "        writer.writerow([i, context])"
   ]
  },
  {
   "cell_type": "code",
   "execution_count": 36,
   "metadata": {},
   "outputs": [],
   "source": [
    "# do this for the question answer pairs\n",
    "with open('val_qna.csv', 'w', newline='') as csvfile:\n",
    "    writer = csv.writer(csvfile)\n",
    "    writer.writerow(['context', 'question', 'answer'])\n",
    "    for i, contextdata in enumerate(data):\n",
    "        context = contextdata['paragraphs'][0]['context']\n",
    "        for qna in contextdata['paragraphs'][0]['qas']:\n",
    "            question = qna['question']\n",
    "            answer = qna['answers'][0]['text']\n",
    "            writer.writerow([i, question, answer])"
   ]
  }
 ],
 "metadata": {
  "kernelspec": {
   "display_name": "smai",
   "language": "python",
   "name": "python3"
  },
  "language_info": {
   "codemirror_mode": {
    "name": "ipython",
    "version": 3
   },
   "file_extension": ".py",
   "mimetype": "text/x-python",
   "name": "python",
   "nbconvert_exporter": "python",
   "pygments_lexer": "ipython3",
   "version": "3.7.16"
  }
 },
 "nbformat": 4,
 "nbformat_minor": 2
}
