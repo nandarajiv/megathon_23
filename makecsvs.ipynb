{
 "cells": [
  {
   "cell_type": "markdown",
   "metadata": {},
   "source": [
    "# Making csvs from the data :D"
   ]
  },
  {
   "cell_type": "code",
   "execution_count": 52,
   "metadata": {},
   "outputs": [],
   "source": [
    "import json\n",
    "import pandas as pd\n",
    "import csv\n",
    "import re"
   ]
  },
  {
   "cell_type": "code",
   "execution_count": 37,
   "metadata": {},
   "outputs": [],
   "source": [
    "with open('/scratch/data/mashqa_data/val_webmd_squad_v2_full.json') as json_data:\n",
    "    data = json.load(json_data)"
   ]
  },
  {
   "cell_type": "code",
   "execution_count": 38,
   "metadata": {},
   "outputs": [],
   "source": [
    "data = data['data']"
   ]
  },
  {
   "cell_type": "code",
   "execution_count": 46,
   "metadata": {},
   "outputs": [
    {
     "name": "stdout",
     "output_type": "stream",
     "text": [
      "521\n"
     ]
    }
   ],
   "source": [
    "print(len(data))"
   ]
  },
  {
   "cell_type": "code",
   "execution_count": 49,
   "metadata": {},
   "outputs": [
    {
     "data": {
      "text/plain": [
       "\"They include: Amphetamines: Mixed amphetamine salts ( Adderall, Evekeo) Dextroamphetamine ( Dexedrine, Pro Centra) Methylphenidates: Dexmethylphenidate SR ( Focalin) Methylphenidate immediate release ( Ritalin, Methylin) This kind of medicine helps if you need to focus for just a few hours. Perhaps you're working on spreadsheets or writing a report and need to be sharp. A short-acting med peaks and falls in your bloodstream quickly. You might feel irritable when it wears off. That's called a rebound effect. If you want to control symptoms all day, you'll need to pop more than one pill. That can be inconvenient and hard to remember to do when you're busy.\""
      ]
     },
     "execution_count": 49,
     "metadata": {},
     "output_type": "execute_result"
    }
   ],
   "source": [
    "data[500]['paragraphs'][0]['qas'][0]['answers'][0]['text']"
   ]
  },
  {
   "cell_type": "code",
   "execution_count": 50,
   "metadata": {},
   "outputs": [],
   "source": [
    "with open ('val_context.csv', 'w', newline='') as csvfile:\n",
    "    writer = csv.writer(csvfile)\n",
    "    writer.writerow(['index', 'context'])\n",
    "    for i, contextdata in enumerate(data):\n",
    "        context = contextdata['paragraphs'][0]['context']\n",
    "        writer.writerow([i, context])"
   ]
  },
  {
   "cell_type": "code",
   "execution_count": 51,
   "metadata": {},
   "outputs": [],
   "source": [
    "# do this for the question answer pairs\n",
    "with open('val_qna.csv', 'w', newline='') as csvfile:\n",
    "    writer = csv.writer(csvfile)\n",
    "    writer.writerow(['context', 'question', 'answer'])\n",
    "    for i, contextdata in enumerate(data):\n",
    "        context = contextdata['paragraphs'][0]['context']\n",
    "        for qna in contextdata['paragraphs'][0]['qas']:\n",
    "            question = qna['question']\n",
    "            answer = qna['answers'][0]['text']\n",
    "            writer.writerow([i, question, answer])"
   ]
  },
  {
   "cell_type": "code",
   "execution_count": 80,
   "metadata": {},
   "outputs": [
    {
     "name": "stdout",
     "output_type": "stream",
     "text": [
      "JavaScript code removed from column 1, and data saved to 'cleaned_data.csv'.\n"
     ]
    }
   ],
   "source": [
    "# Load the CSV data\n",
    "with open('test_context.csv', 'r') as csv_file:\n",
    "    reader = csv.reader(csv_file)\n",
    "    data = [row for row in reader]\n",
    "\n",
    "# Function to remove JavaScript code from a specific column\n",
    "def remove_js_from_column(text, column_index):\n",
    "    # Check if the current row has at least the specified number of columns\n",
    "    if len(text) > column_index:\n",
    "        # Find the index of the first occurrence of \"!s\" in the specified column\n",
    "        start_index = text[column_index].find(\"var \")\n",
    "        \n",
    "        # Find the index of the last occurrence of \"}\" in the specified column\n",
    "        end_index = text[column_index].rfind(\"}\")\n",
    "\n",
    "        if start_index != -1 and end_index != -1 and end_index > start_index:\n",
    "            # Remove the JavaScript code\n",
    "            cleaned_text = text[column_index][:start_index] + text[column_index][end_index + 1:]\n",
    "            text[column_index] = cleaned_text\n",
    "    return text\n",
    "\n",
    "# Specify the column index from which you want to remove JavaScript (e.g., column 1)\n",
    "column_index_to_clean = 1\n",
    "\n",
    "# Clean the specified column while preserving the others\n",
    "cleaned_data = [remove_js_from_column(row, column_index_to_clean) for row in data]\n",
    "\n",
    "# Save the cleaned data to a new CSV file\n",
    "with open('cleaned_data.csv', 'w', newline='') as cleaned_csv:\n",
    "    writer = csv.writer(cleaned_csv)\n",
    "    writer.writerows(cleaned_data)\n",
    "\n",
    "print(f\"JavaScript code removed from column {column_index_to_clean}, and data saved to 'cleaned_data.csv'.\")\n"
   ]
  }
 ],
 "metadata": {
  "kernelspec": {
   "display_name": "smai",
   "language": "python",
   "name": "python3"
  },
  "language_info": {
   "codemirror_mode": {
    "name": "ipython",
    "version": 3
   },
   "file_extension": ".py",
   "mimetype": "text/x-python",
   "name": "python",
   "nbconvert_exporter": "python",
   "pygments_lexer": "ipython3",
   "version": "3.7.0"
  }
 },
 "nbformat": 4,
 "nbformat_minor": 2
}
